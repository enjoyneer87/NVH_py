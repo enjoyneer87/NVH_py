{
 "cells": [
  {
   "cell_type": "code",
   "execution_count": null,
   "source": [
    "import pandas as pd\n",
    "import numpy as np\n",
    "\n",
    "poles=10\n",
    "slot=12\n",
    "rpm=12000\n",
    "u=12\n",
    "v=12\n",
    "\n",
    "fre_e=(rpm/60.)*(poles/2)\n",
    "fre_r=(rpm/60.)\n",
    "gcd=sym.gcd(poles,slot)\n",
    "\n",
    "uu=np.arange(1,u+1) #time\n",
    "vv=np.arange(-v,v+1) #space\n",
    "uvtable=np.zeros((uu.size,vv.size),dtype='int')\n",
    "for i in np.arange(uu.size):\n",
    "    for j in np.arnage(vv.size):\n",
    "        uvtable[i,j]=np.abs(uu[i]*poles+vv[j]*slot)\n",
    "        print i,j,poles,slot,uvtable[i,j]\n",
    "\n",
    "uvtab=pd.DataFrame(uvtable,columns=vv, index=uu)\n",
    "uvtab"
   ],
   "outputs": [],
   "metadata": {}
  },
  {
   "cell_type": "code",
   "execution_count": null,
   "source": [
    "\n",
    "fslot=np.arange(2*fre_e,20000,2*fre_e) #20000Hz까지의 슬롯주파수\n",
    "mmode=np.size(np.unique(np.min(uvtab,1))) \n",
    "modnum=np.uniqueI(np.min(uvtab,1))[1] # 0을 제외한 두번째 작은값을 \n",
    "Color=['r','g','b','k','c','m','y'] #컬러리스트를 만든다.\n"
   ],
   "outputs": [],
   "metadata": {}
  },
  {
   "cell_type": "code",
   "execution_count": null,
   "source": [
    "\n",
    "#가장 작은 파수를 가지고 시간차수에 대해 찾는다.\n",
    "\n",
    "aa=np.unique(np.min(uvtab,1))\n",
    "bb=np.array(np.min(uvtable,1))\n",
    "\n",
    "print(aa)\n",
    "print(bb)\n",
    "\n",
    "pcc=[]\n",
    "for i in bb:\n",
    "    for j in range(aa.size):\n",
    "        if i=aa[j]:\n",
    "            pcc.append(j)\n",
    "pcc=np.array(pcc)\n",
    "bb\n"
   ],
   "outputs": [],
   "metadata": {}
  },
  {
   "cell_type": "code",
   "execution_count": null,
   "source": [
    "plt."
   ],
   "outputs": [],
   "metadata": {}
  },
  {
   "cell_type": "markdown",
   "source": [],
   "metadata": {}
  }
 ],
 "metadata": {
  "orig_nbformat": 4,
  "language_info": {
   "name": "python",
   "version": "3.8.2"
  },
  "kernelspec": {
   "name": "python3",
   "display_name": "Python 3.8.2 64-bit"
  },
  "interpreter": {
   "hash": "31f2aee4e71d21fbe5cf8b01ff0e069b9275f58929596ceb00d14d90e3e16cd6"
  }
 },
 "nbformat": 4,
 "nbformat_minor": 2
}