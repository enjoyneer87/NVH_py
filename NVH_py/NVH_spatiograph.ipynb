{
 "cells": [
  {
   "cell_type": "code",
   "execution_count": null,
   "source": [
    "poles=10\n",
    "slot=12\n",
    "rpm=12000\n",
    "u=12\n",
    "v=12\n",
    "\n",
    "fre_e=(rpm/60.)*(poles/2)\n",
    "fre_r=(rpm/60.)\n",
    "gcd=sym.gcd(poles,slot)\n",
    "\n",
    "uu=np.arange(1,u+1)\n",
    "\n",
    "fslot=np.arange(2*fre_e,20000,2*fre_e)\n",
    "mmode=np.size(np.unique(np.min(uvtab,1)))\n"
   ],
   "outputs": [],
   "metadata": {}
  }
 ],
 "metadata": {
  "orig_nbformat": 4,
  "language_info": {
   "name": "python"
  }
 },
 "nbformat": 4,
 "nbformat_minor": 2
}