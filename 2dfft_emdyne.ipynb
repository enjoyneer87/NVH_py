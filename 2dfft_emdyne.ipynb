{
 "cells": [
  {
   "cell_type": "code",
   "execution_count": 2,
   "metadata": {},
   "outputs": [
    {
     "name": "stdout",
     "output_type": "stream",
     "text": [
      "Populating the interactive namespace from numpy and matplotlib\n"
     ]
    },
    {
     "name": "stderr",
     "output_type": "stream",
     "text": [
      "/Users/kdh2021-air/opt/anaconda3/lib/python3.8/site-packages/IPython/core/magics/pylab.py:159: UserWarning: pylab import has clobbered these variables: ['plt']\n",
      "`%matplotlib` prevents importing * from pylab and numpy\n",
      "  warn(\"pylab import has clobbered these variables: %s\"  % clobbered +\n"
     ]
    },
    {
     "ename": "AttributeError",
     "evalue": "module 'matplotlib' has no attribute 'subplots'",
     "output_type": "error",
     "traceback": [
      "\u001b[0;31m---------------------------------------------------------------------------\u001b[0m",
      "\u001b[0;31mAttributeError\u001b[0m                            Traceback (most recent call last)",
      "\u001b[0;32m<ipython-input-2-7f2c259c95ef>\u001b[0m in \u001b[0;36m<module>\u001b[0;34m\u001b[0m\n\u001b[1;32m     22\u001b[0m \u001b[0;31m#emdyne code\u001b[0m\u001b[0;34m\u001b[0m\u001b[0;34m\u001b[0m\u001b[0;34m\u001b[0m\u001b[0m\n\u001b[1;32m     23\u001b[0m \u001b[0mx\u001b[0m\u001b[0;34m,\u001b[0m\u001b[0my\u001b[0m\u001b[0;34m=\u001b[0m \u001b[0mnp\u001b[0m\u001b[0;34m.\u001b[0m\u001b[0mmeshgrid\u001b[0m\u001b[0;34m(\u001b[0m\u001b[0mnp\u001b[0m\u001b[0;34m.\u001b[0m\u001b[0mlinspace\u001b[0m\u001b[0;34m(\u001b[0m\u001b[0;36m0\u001b[0m\u001b[0;34m,\u001b[0m\u001b[0;36m360\u001b[0m\u001b[0;34m,\u001b[0m\u001b[0mnrow\u001b[0m\u001b[0;34m)\u001b[0m\u001b[0;34m,\u001b[0m \u001b[0mnp\u001b[0m\u001b[0;34m.\u001b[0m\u001b[0mlinspace\u001b[0m\u001b[0;34m(\u001b[0m\u001b[0;36m0\u001b[0m\u001b[0;34m,\u001b[0m\u001b[0;36m0.005\u001b[0m\u001b[0;34m,\u001b[0m\u001b[0mncol\u001b[0m\u001b[0;34m-\u001b[0m\u001b[0;36m1\u001b[0m\u001b[0;34m)\u001b[0m\u001b[0;34m)\u001b[0m\u001b[0;34m\u001b[0m\u001b[0;34m\u001b[0m\u001b[0m\n\u001b[0;32m---> 24\u001b[0;31m \u001b[0mfig\u001b[0m\u001b[0;34m,\u001b[0m \u001b[0max\u001b[0m\u001b[0;34m=\u001b[0m\u001b[0mplt\u001b[0m\u001b[0;34m.\u001b[0m\u001b[0msubplots\u001b[0m\u001b[0;34m(\u001b[0m\u001b[0;34m)\u001b[0m\u001b[0;34m\u001b[0m\u001b[0;34m\u001b[0m\u001b[0m\n\u001b[0m\u001b[1;32m     25\u001b[0m \u001b[0mfig\u001b[0m\u001b[0;34m.\u001b[0m\u001b[0mset_size_inches\u001b[0m\u001b[0;34m(\u001b[0m\u001b[0;34m(\u001b[0m\u001b[0;36m15\u001b[0m\u001b[0;34m,\u001b[0m\u001b[0;36m10\u001b[0m\u001b[0;34m)\u001b[0m\u001b[0;34m)\u001b[0m\u001b[0;34m\u001b[0m\u001b[0;34m\u001b[0m\u001b[0m\n\u001b[1;32m     26\u001b[0m \u001b[0mcset\u001b[0m\u001b[0;34m=\u001b[0m\u001b[0max\u001b[0m\u001b[0;34m.\u001b[0m\u001b[0mcontourf\u001b[0m\u001b[0;34m(\u001b[0m\u001b[0mX\u001b[0m\u001b[0;34m,\u001b[0m\u001b[0mY\u001b[0m\u001b[0;34m,\u001b[0m\u001b[0mC\u001b[0m\u001b[0;34m.\u001b[0m\u001b[0mT\u001b[0m\u001b[0;34m,\u001b[0m\u001b[0mzdir\u001b[0m\u001b[0;34m=\u001b[0m\u001b[0;34m'z'\u001b[0m\u001b[0;34m,\u001b[0m\u001b[0moffset\u001b[0m\u001b[0;34m=\u001b[0m\u001b[0;36m0\u001b[0m\u001b[0;34m,\u001b[0m\u001b[0mcmap\u001b[0m\u001b[0;34m=\u001b[0m\u001b[0mcm\u001b[0m\u001b[0;34m.\u001b[0m\u001b[0mjet\u001b[0m\u001b[0;34m)\u001b[0m\u001b[0;34m\u001b[0m\u001b[0;34m\u001b[0m\u001b[0m\n",
      "\u001b[0;31mAttributeError\u001b[0m: module 'matplotlib' has no attribute 'subplots'"
     ]
    }
   ],
   "source": [
    " %pylab inline\n",
    " %matplotlib inline\n",
    "\n",
    "poles=4\n",
    "\n",
    "\n",
    "import pylab as pl\n",
    "import numpy as np\n",
    "import matplotlib as plt \n",
    "import pandas as pd\n",
    "import sympy as sym\n",
    "import seaborn as sns\n",
    "\n",
    "from matplotlib import cm\n",
    "\n",
    "#.csv data 불러들이기\n",
    "C=pd.read_csv(\"236Nm@213rpm_Radial_Force.csv\",sep=\",\")\n",
    "C.head()\n",
    "nrow=len(C)\n",
    "ncol=C.shape[1]\n",
    "\n",
    "#emdyne code\n",
    "x,y= np.meshgrid(np.linspace(0,360,nrow), np.linspace(0,0.005,ncol-1))\n",
    "fig, ax=plt.subplots()\n",
    "fig.set_size_inches((15,10))\n",
    "cset=ax.contourf(X,Y,C.T,zdir='z',offset=0,cmap=cm.jet)\n",
    "ax.set_xlabel('angstep')\n",
    "ax.set_ylabel('tstep')\n",
    "plt.title(u'The space-time radial force density in air gap', fontproperties='Malgun Gothic', fontsize=14)\n",
    "plt.show()\n",
    "\n",
    "\n",
    "#fslot=np.arange(2*fre_e)\n"
   ]
  },
  {
   "cell_type": "code",
   "execution_count": null,
   "metadata": {},
   "outputs": [],
   "source": [
    "from matplotlib import cm\n",
    "\n",
    "fig=plt.figure(figsize=(12,8))\n",
    "ax=fig.add_subplot(1,1,1,projection='3d')\n",
    "g=ax.plot_surface(X,Y,C.T/10000,rstride=1,cstride=1, antializsed=False,alpha=1,cmap='jet',edgecolors=)\n",
    "ax.view_init(30,-60)\n",
    "ax.set_zlim([0,5])\n",
    "fig.tight_layout()\n",
    "plt.colorbar(g,shirink=0.2)\n",
    "plt.show\n",
    "\n"
   ]
  },
  {
   "cell_type": "code",
   "execution_count": null,
   "metadata": {},
   "outputs": [
    {
     "ename": "SyntaxError",
     "evalue": "expression cannot contain assignment, perhaps you meant \"==\"? (<ipython-input-2-504e809575fa>, line 19)",
     "output_type": "error",
     "traceback": [
      "\u001b[1;36m  File \u001b[1;32m\"<ipython-input-2-504e809575fa>\"\u001b[1;36m, line \u001b[1;32m19\u001b[0m\n\u001b[1;33m    aaa=-np.arange(ff[0],ff[-1]+1,np.dtype=np.int)*poles\u001b[0m\n\u001b[1;37m                                  ^\u001b[0m\n\u001b[1;31mSyntaxError\u001b[0m\u001b[1;31m:\u001b[0m expression cannot contain assignment, perhaps you meant \"==\"?\n"
     ]
    }
   ],
   "source": [
    "#2d FFT for the time-spatial radial force density\n",
    "import numpy as np\n",
    "\n",
    "ps=C.T\n",
    "ffs=np.fft.fftshift(abs(np.fft.fftn(ps)))*2/len(ps)\n",
    "# 주파수가 0인 부분을 정중앙에 위치시키고 재배열해주는 함수이다.\n",
    "NX,Nt=ffs.shape\n",
    "#shape (numpy) : 행렬의 차원 \n",
    "Nx=int(Nx); Nt=int(Nt)\n",
    "waveno=18\n",
    "timeno=10\n",
    "\n",
    "f=np.fft.fftshift(np.fft.fftfreq(Nx,1/Nx))\n",
    "f.astype(int)\n",
    "k=np.fft.fftshift(np.fft.fftfreq(Nt,1/Nt))\n",
    "fcent=int(np.argwhere(f==0))\n",
    "#0이 아닌 배열 요소의 색인을 요소별로 그룹화하십시오.\n",
    "\n",
    "kcent=int(np.argwhere(k==0))\n",
    "ff=f[fcent-timeno:fcent+timeno]\n",
    "kk=k[kcent-waveno:kcent+waveno]\n",
    "aaa=-np.arange(ff[0],ff[-1]+1,np.dtype=np.int)*poles\n",
    "bbb=np.arange(kk[0],kk[-1]+1,dtype=np.int)\n",
    "\n",
    "sffs=ffs[fcent-timeno:fcent+timeno,kcent-waveno:kcent+waveno]\n",
    "sffs[sffs<0.1]=0 \n",
    "fig, ax =plt.subplots()\n",
    "fig.set_size_inches((12,8))\n",
    "\n",
    "\n",
    "\n",
    "\n",
    "\n",
    "\n",
    "from matplotlib import cm\n",
    "#emdyne code\n",
    "X,Y= np.meshgrid(np.linspace(0,360,nrow), np.linspace(0,0.005,ncol-1))\n",
    "fig, ax=plt.subplots()\n",
    "fig.set_size_inches((15,10))\n",
    "cset=ax.contourf(X,Y,C.T,zdir='z',offset=0,cmap=cm.jet)\n",
    "ax.set_xlabel('angstep')\n",
    "ax.set_ylabel('tstep')\n",
    "plt.title(u'The space-time radial force density in air gap', fontproperties='Malgun Gothic', fontsize=14)\n",
    "plt.show()\n",
    "\n",
    "ps=C.T\n",
    "ffs=np.fft.fftshift(abs(np.fft.fftn(ps)))*2/len(ps) # 주파수가 0인 부분을 정중앙에 위치시키고 재배열해주는 함수이다.\n",
    "NX,Nt=ffs.shape #shape (numpy) : 행렬의 차원 \n",
    "Nx=int(Nx); Nt=int(Nt)\n",
    "waveno=18\n",
    "timeno=10\n",
    "\n",
    "f=np.fft.fftshift(np.fft.fftfreq(Nx,1/Nx))\n",
    "f.astype(int)\n",
    "k=np.fft.fftshift(np.fft.fftfreq(Nt,1/Nt))\n",
    "fcent=int(np.argwhere(f==0)) #0이 아닌 배열 요소의 색인을 요소별로 그룹화하십시오.\n",
    "kcent=int(np.argwhere(k==0))\n",
    "ff=f[fcent-timeno:fcent+timeno]\n",
    "kk=k[kcent-waveno:kcent+waveno]\n",
    "aaa=-np.arange(ff[0],ff[-1]+1,dtype=np.int)*poles\n",
    "bbb=np.arange(kk[0],kk[-1]+1,dtype=np.int)\n",
    "\n",
    "sffs=ffs[fcent-timeno:fcent+timeno,kcent-waveno:kcent+waveno]\n",
    "sffs[sffs<0.1]=0 \n",
    "fig, ax =plt.subplots()\n",
    "fig.set_size_inches((12,8))\n",
    "ax.set_xticks(np.arange(kk.size)+0.5)\n",
    "\n"
   ]
  }
 ],
 "metadata": {
  "interpreter": {
   "hash": "80207d8db8434d5ce42ed95628546b919922188da7bbd885a47ab0eafc71e591"
  },
  "kernelspec": {
   "display_name": "Python 3",
   "language": "python",
   "name": "python3"
  },
  "language_info": {
   "codemirror_mode": {
    "name": "ipython",
    "version": 3
   },
   "file_extension": ".py",
   "mimetype": "text/x-python",
   "name": "python",
   "nbconvert_exporter": "python",
   "pygments_lexer": "ipython3",
   "version": "3.8.8"
  },
  "varInspector": {
   "cols": {
    "lenName": 16,
    "lenType": 16,
    "lenVar": 40
   },
   "kernels_config": {
    "python": {
     "delete_cmd_postfix": "",
     "delete_cmd_prefix": "del ",
     "library": "var_list.py",
     "varRefreshCmd": "print(var_dic_list())"
    },
    "r": {
     "delete_cmd_postfix": ") ",
     "delete_cmd_prefix": "rm(",
     "library": "var_list.r",
     "varRefreshCmd": "cat(var_dic_list()) "
    }
   },
   "types_to_exclude": [
    "module",
    "function",
    "builtin_function_or_method",
    "instance",
    "_Feature"
   ],
   "window_display": false
  }
 },
 "nbformat": 4,
 "nbformat_minor": 2
}
